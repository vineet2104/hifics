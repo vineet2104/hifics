{
 "cells": [
  {
   "cell_type": "markdown",
   "metadata": {},
   "source": [
    "# Using Segment Anything to create Custom 2D Visual Grounding Dataset\n",
    "\n",
    "##### 1. This notebook demonstrates how SAM can be used to generate candidate masks of all entities in scene.\n",
    "##### 2. Not all segmentations correspond to a meaningful object in scene. This notebook provides a helpful interface to screen all segmentations and save only the useful ones\n",
    "##### 3. Once the RGB image - Mask pairs have been created, you can crowdsource the created parallel data to create referring queries."
   ]
  },
  {
   "cell_type": "code",
   "execution_count": null,
   "metadata": {},
   "outputs": [],
   "source": [
    "# Import all packages and libraries from Grounded-SAM\n",
    "import sys\n",
    "sys.path.append(\"./Grounded-Segment-Anything/segment_anything\")\n",
    "from segment_anything import sam_model_registry, SamAutomaticMaskGenerator\n",
    "import numpy as np\n",
    "import matplotlib.pyplot as plt\n",
    "from PIL import Image\n",
    "import os\n",
    "from IPython.display import display, clear_output\n",
    "import ipywidgets as widgets\n",
    "import cv2"
   ]
  },
  {
   "cell_type": "code",
   "execution_count": null,
   "metadata": {},
   "outputs": [],
   "source": [
    "# Assign checkpoint path of the SAM model, and GPU device for faster inference.\n",
    "MODEL_TYPE = \"vit_h\"\n",
    "CHECKPOINT_PATH = \"./sam_vit_h_4b8939.pth\"\n",
    "DEVICE = \"cuda\"\n",
    "sam = sam_model_registry[MODEL_TYPE](checkpoint=CHECKPOINT_PATH).to(device=DEVICE)\n",
    "mask_generator = SamAutomaticMaskGenerator(sam)"
   ]
  },
  {
   "cell_type": "code",
   "execution_count": null,
   "metadata": {},
   "outputs": [],
   "source": [
    "def show_masks_and_save(image_path, masks, save_directory):\n",
    "    \"\"\"\n",
    "    Displays the original image and then each object mask in black and white.\n",
    "    Uses interactive buttons to let the user decide to save each mask as a PNG file.\n",
    "    \n",
    "    Parameters:\n",
    "    - image_path: The path to the original image file.\n",
    "    - masks: A list of dictionaries, where each dictionary has a key 'segmentation'\n",
    "             corresponding to a True/False matrix for the object mask.\n",
    "    - save_directory: The directory where mask images will be saved if the user chooses to do so.\n",
    "    \"\"\"\n",
    "    # Ensure the save directory exists\n",
    "    \n",
    "    if not os.path.exists(save_directory):\n",
    "        os.makedirs(save_directory)\n",
    "\n",
    "    save_counter = [0]\n",
    "    def process_mask(index):\n",
    "        if index < len(masks):\n",
    "            mask_dict = masks[index]\n",
    "            segmentation = mask_dict['segmentation']\n",
    "            mask_image = np.where(segmentation, 0, 255).astype(np.uint8)\n",
    "\n",
    "            clear_output(wait=True)\n",
    "            plt.figure(figsize=(6, 6))\n",
    "            plt.imshow(mask_image, cmap='gray', vmin=0, vmax=255)\n",
    "            plt.axis('on')\n",
    "            plt.title(f'Mask {index+1}')\n",
    "            plt.show()\n",
    "\n",
    "            # Display save and next buttons\n",
    "            save_button = widgets.Button(description=\"Save Mask\")\n",
    "            next_button = widgets.Button(description=\"Next Mask\")\n",
    "\n",
    "            display(save_button, next_button)\n",
    "\n",
    "            def save_mask(b):\n",
    "                save_counter[0]+=1\n",
    "                save_path = os.path.join(save_directory, image_name+f'_mask_{save_counter[0]}.png')\n",
    "                Image.fromarray(mask_image).save(save_path)\n",
    "                print(f'Mask saved as {save_path}')\n",
    "                process_mask(index + 1)\n",
    "\n",
    "            def next_mask(b):\n",
    "                process_mask(index + 1)\n",
    "\n",
    "            save_button.on_click(save_mask)\n",
    "            next_button.on_click(next_mask)\n",
    "        else:\n",
    "            clear_output(wait=True)\n",
    "            print(\"All masks processed. Total masks saved:\", save_counter[0])\n",
    "\n",
    "    process_mask(0)\n",
    "\n"
   ]
  },
  {
   "cell_type": "code",
   "execution_count": null,
   "metadata": {},
   "outputs": [],
   "source": [
    "image_name=\"sample\"\n",
    "sample_image_path= './datasets/RoboRESTest/sample120.png'\n",
    "\n",
    "original_image = Image.open(sample_image_path)\n",
    "plt.figure(figsize=(6, 6))\n",
    "plt.imshow(original_image)\n",
    "plt.axis('on')\n",
    "plt.title('Original Image')\n",
    "plt.show()"
   ]
  },
  {
   "cell_type": "code",
   "execution_count": null,
   "metadata": {},
   "outputs": [],
   "source": [
    "print(\"Generating mask\")\n",
    "image= cv2.imread(sample_image_path)\n",
    "image_rgb = cv2.cvtColor(image, cv2.COLOR_BGR2RGB)\n",
    "output_mask = mask_generator.generate(image_rgb)"
   ]
  },
  {
   "cell_type": "code",
   "execution_count": null,
   "metadata": {},
   "outputs": [],
   "source": [
    "show_masks_and_save(sample_image_path, output_mask, './sample_masks/')"
   ]
  }
 ],
 "metadata": {
  "kernelspec": {
   "display_name": "res-demo",
   "language": "python",
   "name": "python3"
  },
  "language_info": {
   "codemirror_mode": {
    "name": "ipython",
    "version": 3
   },
   "file_extension": ".py",
   "mimetype": "text/x-python",
   "name": "python",
   "nbconvert_exporter": "python",
   "pygments_lexer": "ipython3",
   "version": "3.12.2"
  }
 },
 "nbformat": 4,
 "nbformat_minor": 2
}
